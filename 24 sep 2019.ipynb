{
 "cells": [
  {
   "cell_type": "markdown",
   "metadata": {},
   "source": [
    "# Date:24/09/19"
   ]
  },
  {
   "cell_type": "markdown",
   "metadata": {},
   "source": [
    "## Tasks"
   ]
  },
  {
   "cell_type": "markdown",
   "metadata": {},
   "source": [
    "### Maximum length: Print the words which length has maximum if multiple names has max length print that names in same line.\n",
    "Sample Input : krishna aditya ram eshwer\n",
    "\n",
    "Sample output : krishna"
   ]
  },
  {
   "cell_type": "code",
   "execution_count": 37,
   "metadata": {},
   "outputs": [
    {
     "name": "stdout",
     "output_type": "stream",
     "text": [
      "hello helli pra\n",
      "hello\n",
      "helli\n"
     ]
    }
   ],
   "source": [
    "inp=input().split()\n",
    "l=len(inp)\n",
    "c=[]\n",
    "for i in range(l):\n",
    "    c.append(len(inp[i]))\n",
    "for i in range(l):\n",
    "    if max(c)==len(inp[i]):\n",
    "        print(inp[i])\n",
    "    \n",
    "    \n",
    "    "
   ]
  },
  {
   "cell_type": "markdown",
   "metadata": {},
   "source": [
    "### Two Strings: Given two strings of equal length, you have to tell whether they both strings are identical. \n",
    "Input Format:abc cab\n",
    "\n",
    "Output Format:\"YES\" "
   ]
  },
  {
   "cell_type": "code",
   "execution_count": 22,
   "metadata": {},
   "outputs": [
    {
     "name": "stdout",
     "output_type": "stream",
     "text": [
      "how\n",
      "ohw\n",
      "YES\n"
     ]
    }
   ],
   "source": [
    "s1=input()\n",
    "s2=input()\n",
    "l=len(s1)\n",
    "c=0\n",
    "d=0\n",
    "for i in s1:\n",
    "    for j in s2:\n",
    "        if i==j:\n",
    "            c=c+1;\n",
    "            break;\n",
    "        else:\n",
    "            d=d+1;\n",
    "if c==l:\n",
    "    print('YES')\n",
    "else:\n",
    "    print('NO')"
   ]
  },
  {
   "cell_type": "markdown",
   "metadata": {},
   "source": [
    "### names=\"Apollo Brix Chichi krish\", Print the names which has duplicate characters\n",
    "output: Apollo Chichi"
   ]
  },
  {
   "cell_type": "code",
   "execution_count": 12,
   "metadata": {},
   "outputs": [
    {
     "name": "stdout",
     "output_type": "stream",
     "text": [
      "Apollo Brix Chichi krish\n",
      "Apollo Chichi "
     ]
    }
   ],
   "source": [
    "n=input().split()\n",
    "c=[]\n",
    "for i in n:\n",
    "    c.append(i)\n",
    "for i in c:\n",
    "    d=0\n",
    "    l=len(i)\n",
    "    for j in i:\n",
    "        for k in i:\n",
    "            if k==j:\n",
    "                d=d+1\n",
    "    if d>l:\n",
    "        print(i,end=\" \")"
   ]
  },
  {
   "cell_type": "code",
   "execution_count": 14,
   "metadata": {},
   "outputs": [
    {
     "name": "stdout",
     "output_type": "stream",
     "text": [
      "hello hi\n",
      "{'l', 'e', 'o', 'h'}\n",
      "{'i', 'h'}\n"
     ]
    }
   ],
   "source": [
    "n=input().split()\n",
    "c=[]\n",
    "for i in n:\n",
    "    c.append(i)\n",
    "d=set(c)\n",
    "for i in d:\n",
    "    e=set(i)\n",
    "    "
   ]
  },
  {
   "cell_type": "code",
   "execution_count": null,
   "metadata": {},
   "outputs": [],
   "source": []
  }
 ],
 "metadata": {
  "kernelspec": {
   "display_name": "Python 3",
   "language": "python",
   "name": "python3"
  },
  "language_info": {
   "codemirror_mode": {
    "name": "ipython",
    "version": 3
   },
   "file_extension": ".py",
   "mimetype": "text/x-python",
   "name": "python",
   "nbconvert_exporter": "python",
   "pygments_lexer": "ipython3",
   "version": "3.7.3"
  }
 },
 "nbformat": 4,
 "nbformat_minor": 2
}

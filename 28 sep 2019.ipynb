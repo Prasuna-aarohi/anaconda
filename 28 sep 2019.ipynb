{
 "cells": [
  {
   "cell_type": "code",
   "execution_count": 3,
   "metadata": {},
   "outputs": [
    {
     "name": "stdout",
     "output_type": "stream",
     "text": [
      "2\n",
      "Hai\n",
      "Ibj\n",
      "Hello This is good!\n",
      "Ifmmp Uijt jt hppe!\n"
     ]
    }
   ],
   "source": [
    "n=int(input())\n",
    "for i in range(n):\n",
    "    s=input()\n",
    "    r=\"\"\n",
    "    for j in s:\n",
    "        if (ord(j)>=65 and ord(j)<=90) or (ord(j)>=97 and ord(j)<=122):\n",
    "            a=ord(j)+1\n",
    "            r=r+chr(a)\n",
    "        else:\n",
    "            r=r+j\n",
    "    print(r)\n",
    "        "
   ]
  },
  {
   "cell_type": "code",
   "execution_count": 6,
   "metadata": {},
   "outputs": [
    {
     "name": "stdout",
     "output_type": "stream",
     "text": [
      "2\n",
      "Hai\n",
      "Ibj\n",
      "Hello This is Good!\n",
      "Ifmmp Uijt jt Hppe!\n"
     ]
    }
   ],
   "source": [
    "n=int(input())\n",
    "for i in range(n):\n",
    "    s=input()\n",
    "    r=\"\"\n",
    "    for j in s:\n",
    "        if j.isalpha():\n",
    "            a=ord(j)+1\n",
    "            r=r+chr(a)\n",
    "        else:\n",
    "            r=r+j\n",
    "    print(r)"
   ]
  },
  {
   "cell_type": "code",
   "execution_count": 1,
   "metadata": {},
   "outputs": [
    {
     "name": "stdout",
     "output_type": "stream",
     "text": [
      "2\n",
      "09876\n",
      "False\n",
      "09876543212345\n",
      "True\n"
     ]
    }
   ],
   "source": [
    "def pan(string):\n",
    "    for j in range(10):\n",
    "        if str(j) not in string:\n",
    "            return False\n",
    "    return True\n",
    "n=int(input())\n",
    "for i in range(n):\n",
    "    s=input()\n",
    "    print(pan(s))"
   ]
  },
  {
   "cell_type": "code",
   "execution_count": 7,
   "metadata": {},
   "outputs": [
    {
     "name": "stdout",
     "output_type": "stream",
     "text": [
      "2\n",
      "3 -4\n",
      "1\n",
      "2 -1 3 -4 8\n",
      "-8\n"
     ]
    }
   ],
   "source": [
    "n=int(input())\n",
    "for i in range(n):\n",
    "    s=input().split()\n",
    "    r=0\n",
    "    for j in s:\n",
    "        r=r-int(j)\n",
    "    print(r)\n",
    "        "
   ]
  },
  {
   "cell_type": "markdown",
   "metadata": {},
   "source": [
    "## Regular Expression \n",
    "\n",
    "A Regular Expression (RegEx) is a sequence of characters that match a pattern or defines a search pattern.\n",
    "\n",
    "Nothing but, It's a string pattern written in a compact syntax, that allows us to quickly check\n",
    "\n",
    "whether a given string matches or contains a given pattern. \n",
    "\n",
    "using:\n",
    "\n",
    "        findall(pattern,string)\n",
    "        search(pattern,string)\n",
    "        match(pattern,string)\n",
    "\n",
    "[]     A set of characters \"[a-m]\" \n",
    "\n",
    "\\    Signals a special sequence (can also be used to escape special characters) \"\\d\" \n",
    "\n",
    ".    Any character (except newline character) \"he..o\" \n",
    "\n",
    "^     Starts with \"^hello\" \n",
    "\n",
    "$    Ends with \"world$\" \n",
    "\n",
    "*   Zero or more occurrences \"aix*\" \n",
    "\n",
    "+    One or more occurrences \"aix+\" \n",
    "\n",
    "{}   Exactly the specified number of occurrences \"al{2}\" \n",
    "\n",
    "|   Either or \"falls|stays\" \n",
    "\n",
    "()   Capture and group"
   ]
  },
  {
   "cell_type": "code",
   "execution_count": 8,
   "metadata": {},
   "outputs": [],
   "source": [
    "import re"
   ]
  },
  {
   "cell_type": "code",
   "execution_count": 9,
   "metadata": {},
   "outputs": [
    {
     "data": {
      "text/plain": [
       "['A',\n",
       " 'ASCII',\n",
       " 'DEBUG',\n",
       " 'DOTALL',\n",
       " 'I',\n",
       " 'IGNORECASE',\n",
       " 'L',\n",
       " 'LOCALE',\n",
       " 'M',\n",
       " 'MULTILINE',\n",
       " 'Match',\n",
       " 'Pattern',\n",
       " 'RegexFlag',\n",
       " 'S',\n",
       " 'Scanner',\n",
       " 'T',\n",
       " 'TEMPLATE',\n",
       " 'U',\n",
       " 'UNICODE',\n",
       " 'VERBOSE',\n",
       " 'X',\n",
       " '_MAXCACHE',\n",
       " '__all__',\n",
       " '__builtins__',\n",
       " '__cached__',\n",
       " '__doc__',\n",
       " '__file__',\n",
       " '__loader__',\n",
       " '__name__',\n",
       " '__package__',\n",
       " '__spec__',\n",
       " '__version__',\n",
       " '_cache',\n",
       " '_compile',\n",
       " '_compile_repl',\n",
       " '_expand',\n",
       " '_locale',\n",
       " '_pickle',\n",
       " '_special_chars_map',\n",
       " '_subx',\n",
       " 'compile',\n",
       " 'copyreg',\n",
       " 'enum',\n",
       " 'error',\n",
       " 'escape',\n",
       " 'findall',\n",
       " 'finditer',\n",
       " 'fullmatch',\n",
       " 'functools',\n",
       " 'match',\n",
       " 'purge',\n",
       " 'search',\n",
       " 'split',\n",
       " 'sre_compile',\n",
       " 'sre_parse',\n",
       " 'sub',\n",
       " 'subn',\n",
       " 'template']"
      ]
     },
     "execution_count": 9,
     "metadata": {},
     "output_type": "execute_result"
    }
   ],
   "source": [
    "dir(re)"
   ]
  },
  {
   "cell_type": "code",
   "execution_count": 10,
   "metadata": {},
   "outputs": [
    {
     "data": {
      "text/plain": [
       "<re.Match object; span=(0, 1), match='a'>"
      ]
     },
     "execution_count": 10,
     "metadata": {},
     "output_type": "execute_result"
    }
   ],
   "source": [
    "# re.search(pattern,string)\n",
    "re.search(\"a\",\"asduaaniefh\")"
   ]
  },
  {
   "cell_type": "code",
   "execution_count": 11,
   "metadata": {},
   "outputs": [
    {
     "name": "stdout",
     "output_type": "stream",
     "text": [
      "<re.Match object; span=(0, 1), match='a'>\n",
      "None\n"
     ]
    }
   ],
   "source": [
    "#re.match(pattern,string)\n",
    "print(re.match(\"a\",\"asdfgh\"))\n",
    "print(re.match(\"a\",\"sdfv\"))"
   ]
  },
  {
   "cell_type": "code",
   "execution_count": 13,
   "metadata": {},
   "outputs": [
    {
     "data": {
      "text/plain": [
       "['a', 'a']"
      ]
     },
     "execution_count": 13,
     "metadata": {},
     "output_type": "execute_result"
    }
   ],
   "source": [
    "re.findall(\"a\",\"hgfdsazxca\")"
   ]
  },
  {
   "cell_type": "code",
   "execution_count": 14,
   "metadata": {},
   "outputs": [
    {
     "data": {
      "text/plain": [
       "<re.Match object; span=(0, 2), match='hi'>"
      ]
     },
     "execution_count": 14,
     "metadata": {},
     "output_type": "execute_result"
    }
   ],
   "source": [
    "re.search(\"hi\",\"hikjhghi\")"
   ]
  },
  {
   "cell_type": "code",
   "execution_count": 15,
   "metadata": {},
   "outputs": [
    {
     "data": {
      "text/plain": [
       "['hi', 'hi']"
      ]
     },
     "execution_count": 15,
     "metadata": {},
     "output_type": "execute_result"
    }
   ],
   "source": [
    "re.findall(\"hi\",\"hikjhghi\")"
   ]
  },
  {
   "cell_type": "code",
   "execution_count": 18,
   "metadata": {},
   "outputs": [
    {
     "data": {
      "text/plain": [
       "<re.Match object; span=(1, 2), match='i'>"
      ]
     },
     "execution_count": 18,
     "metadata": {},
     "output_type": "execute_result"
    }
   ],
   "source": [
    "re.search(\"[aeiou]\",\"hi how are you\")"
   ]
  },
  {
   "cell_type": "code",
   "execution_count": 26,
   "metadata": {},
   "outputs": [
    {
     "name": "stdout",
     "output_type": "stream",
     "text": [
      "['i', 'o', 'a', 'e', 'o', 'u']\n",
      "['are ']\n",
      "['are']\n",
      "['ar']\n"
     ]
    }
   ],
   "source": [
    "print(re.findall(\"[aeiou]\",\"hi how are you\"))\n",
    "print(re.findall(\"a...\",\"hi how are you\"))\n",
    "print(re.findall(\"a..\",\"hi how are you\"))\n",
    "print(re.findall(\"a.\",\"hi how are you\"))"
   ]
  },
  {
   "cell_type": "code",
   "execution_count": 29,
   "metadata": {},
   "outputs": [
    {
     "name": "stdout",
     "output_type": "stream",
     "text": [
      "<re.Match object; span=(0, 1), match='G'>\n",
      "None\n"
     ]
    }
   ],
   "source": [
    "print(re.search(\"[A-Z]\",\"Gireesha\"))\n",
    "print(re.search(\"[A-Z]\",\"gireesha\"))"
   ]
  },
  {
   "cell_type": "code",
   "execution_count": 39,
   "metadata": {},
   "outputs": [
    {
     "name": "stdout",
     "output_type": "stream",
     "text": [
      "Enter name prasuna\n",
      "prasuna is a girl\n"
     ]
    }
   ],
   "source": [
    "n=input(\"Enter name \")\n",
    "if re.search('^[A-z]',n)and re.search('a$',n):\n",
    "    print(n,\"is a girl\")\n",
    "else:\n",
    "    print(n,\"is a boy\")"
   ]
  },
  {
   "cell_type": "code",
   "execution_count": 3,
   "metadata": {},
   "outputs": [
    {
     "name": "stdout",
     "output_type": "stream",
     "text": [
      "Enter name Prasuna\n",
      "Prasuna is a girl\n"
     ]
    }
   ],
   "source": [
    "import re\n",
    "n=input(\"Enter name \")\n",
    "#if re.search('^[A-Z]',n)and re.search('a$',n):\n",
    "if re.search('^[A-Z][a-z]{1,10}a$',n):\n",
    "    print(n,\"is a girl\")\n",
    "else:\n",
    "    print(n,\"is a boy\")"
   ]
  },
  {
   "cell_type": "markdown",
   "metadata": {},
   "source": [
    "## Tasks"
   ]
  },
  {
   "cell_type": "code",
   "execution_count": 23,
   "metadata": {},
   "outputs": [
    {
     "name": "stdout",
     "output_type": "stream",
     "text": [
      "918309823188\n",
      "Indian number\n",
      "Indian number but not valid\n"
     ]
    }
   ],
   "source": [
    "import re\n",
    "n=input()\n",
    "l=len(n)\n",
    "#if re.search('^[6-9]',n) or re.search('91',n):\n",
    "if re.search('91',n):\n",
    "    if l==12 and re.search('^[6-9]',n[2]):\n",
    "            print('Indian number')\n",
    "    else:\n",
    "            print('Indian number but not valid')\n",
    "if re.search('^[6-9]',n):\n",
    "    if l==10:\n",
    "        print('Indian number')\n",
    "       \n",
    "    else:\n",
    "        print('Indian number but not valid')\n",
    "        \n",
    "        \n",
    "else:\n",
    "        print('Not an Indian number')"
   ]
  },
  {
   "cell_type": "markdown",
   "metadata": {},
   "source": [
    "### Email validity"
   ]
  },
  {
   "cell_type": "code",
   "execution_count": 10,
   "metadata": {},
   "outputs": [],
   "source": [
    "def Emailvalidator(email):\n",
    "    pattern='[a-z0-9]{1,20}[._a-z0-9]{1,10}[@][a-z0-9]{1,20}[.][a-z]{1,5}'\n",
    "    if re.match(pattern,email):\n",
    "        return True\n",
    "    return False"
   ]
  },
  {
   "cell_type": "code",
   "execution_count": 11,
   "metadata": {},
   "outputs": [
    {
     "data": {
      "text/plain": [
       "True"
      ]
     },
     "execution_count": 11,
     "metadata": {},
     "output_type": "execute_result"
    }
   ],
   "source": [
    "Emailvalidator('prasunaaarohi@gmail.com')"
   ]
  },
  {
   "cell_type": "code",
   "execution_count": 12,
   "metadata": {},
   "outputs": [
    {
     "data": {
      "text/plain": [
       "False"
      ]
     },
     "execution_count": 12,
     "metadata": {},
     "output_type": "execute_result"
    }
   ],
   "source": [
    "Emailvalidator('Prasunaaarohi@gmail.com')"
   ]
  },
  {
   "cell_type": "markdown",
   "metadata": {},
   "source": [
    "### Mobile Number Valid"
   ]
  },
  {
   "cell_type": "code",
   "execution_count": 33,
   "metadata": {},
   "outputs": [],
   "source": [
    "def mvalid(num):\n",
    "    pattern='^[6-9][0-9]{9}|^[+][9][1][6-9][0-9]{9}'\n",
    "    if re.match(pattern,num):\n",
    "        print(\"Indian Number\")\n",
    "    else:\n",
    "        print(\"Not valid\")"
   ]
  },
  {
   "cell_type": "code",
   "execution_count": 34,
   "metadata": {},
   "outputs": [
    {
     "name": "stdout",
     "output_type": "stream",
     "text": [
      "Indian Number\n"
     ]
    }
   ],
   "source": [
    "mvalid('+918309823188')"
   ]
  },
  {
   "cell_type": "code",
   "execution_count": null,
   "metadata": {},
   "outputs": [],
   "source": []
  }
 ],
 "metadata": {
  "kernelspec": {
   "display_name": "Python 3",
   "language": "python",
   "name": "python3"
  },
  "language_info": {
   "codemirror_mode": {
    "name": "ipython",
    "version": 3
   },
   "file_extension": ".py",
   "mimetype": "text/x-python",
   "name": "python",
   "nbconvert_exporter": "python",
   "pygments_lexer": "ipython3",
   "version": "3.7.3"
  }
 },
 "nbformat": 4,
 "nbformat_minor": 2
}

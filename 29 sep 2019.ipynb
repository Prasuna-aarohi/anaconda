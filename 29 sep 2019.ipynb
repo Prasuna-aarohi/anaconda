{
 "cells": [
  {
   "cell_type": "markdown",
   "metadata": {},
   "source": [
    "### File Handling and Data Processing\n",
    "\n",
    "    Introduction about files\n",
    "    methods in files\n",
    "        open\n",
    "        read\n",
    "        readlines\n",
    "        write\n",
    "        close\n",
    "        seek\n",
    "        tell"
   ]
  },
  {
   "cell_type": "markdown",
   "metadata": {},
   "source": [
    "### Method 1"
   ]
  },
  {
   "cell_type": "code",
   "execution_count": 7,
   "metadata": {},
   "outputs": [
    {
     "name": "stdout",
     "output_type": "stream",
     "text": [
      "hi\n",
      "how are you\n",
      "prasu\n"
     ]
    }
   ],
   "source": [
    "f=open(\"sampledata.txt\",\"r\")#open file\n",
    "data=f.read()#readind the data\n",
    "print(data)#printing the data\n",
    "f.close()#close the file"
   ]
  },
  {
   "cell_type": "markdown",
   "metadata": {},
   "source": [
    "### Method 2"
   ]
  },
  {
   "cell_type": "code",
   "execution_count": 9,
   "metadata": {},
   "outputs": [
    {
     "name": "stdout",
     "output_type": "stream",
     "text": [
      "hi\n",
      "how are you\n",
      "prasu\n"
     ]
    }
   ],
   "source": [
    "with open(\"sampledata.txt\",\"r\") as f:\n",
    "    data=f.read()\n",
    "    print(data)"
   ]
  },
  {
   "cell_type": "code",
   "execution_count": 10,
   "metadata": {},
   "outputs": [
    {
     "name": "stdout",
     "output_type": "stream",
     "text": [
      "sampledata.txt\n",
      "hi\n",
      "how are you\n",
      "prasu\n"
     ]
    }
   ],
   "source": [
    "def readdata(filename):\n",
    "    f=open(filename,\"r\")\n",
    "    data=f.read()\n",
    "    print(data)\n",
    "    f.close()\n",
    "#filename=\"sampledata.txt\"\n",
    "readdata(input())"
   ]
  },
  {
   "cell_type": "code",
   "execution_count": 11,
   "metadata": {},
   "outputs": [],
   "source": [
    "def readdata(filename):\n",
    "    f=open(filename,\"r\")\n",
    "    data=f.read()\n",
    "    f.close()\n",
    "    return data"
   ]
  },
  {
   "cell_type": "code",
   "execution_count": 14,
   "metadata": {},
   "outputs": [
    {
     "name": "stdout",
     "output_type": "stream",
     "text": [
      "Hi\n",
      "how are you\n",
      "prasu\n",
      "HI\n",
      "HOW ARE YOU\n",
      "PRASU\n",
      "hi\n",
      "how are you\n",
      "prasu\n"
     ]
    }
   ],
   "source": [
    "print(readdata(\"sampledata.txt\").capitalize())\n",
    "print(readdata(\"sampledata.txt\").upper())\n",
    "print(readdata(\"sampledata.txt\").lower())"
   ]
  },
  {
   "cell_type": "code",
   "execution_count": 15,
   "metadata": {},
   "outputs": [
    {
     "name": "stdout",
     "output_type": "stream",
     "text": [
      "hii\n"
     ]
    }
   ],
   "source": [
    "with open(\"text.txt\",\"w\") as f:\n",
    "    f.write(input())"
   ]
  },
  {
   "cell_type": "code",
   "execution_count": 16,
   "metadata": {},
   "outputs": [
    {
     "name": "stdout",
     "output_type": "stream",
     "text": [
      "3\n",
      "writing the data\n",
      "into this file\n",
      "and closing the file\n"
     ]
    }
   ],
   "source": [
    "n=int(input())\n",
    "for i in range(n):\n",
    "    with open(\"text.text\",\"w\") as f:\n",
    "        f.write(input())"
   ]
  },
  {
   "cell_type": "code",
   "execution_count": 1,
   "metadata": {},
   "outputs": [
    {
     "name": "stdout",
     "output_type": "stream",
     "text": [
      "3\n",
      "hi hi hello\n",
      "hello prasu\n",
      "good\n"
     ]
    }
   ],
   "source": [
    "n=int(input())\n",
    "for i in range(n):\n",
    "    with open(\"text.txt\",\"a\") as f:\n",
    "        f.write(input()+\"\\n\")"
   ]
  },
  {
   "cell_type": "code",
   "execution_count": 2,
   "metadata": {},
   "outputs": [
    {
     "name": "stdout",
     "output_type": "stream",
     "text": [
      "hi hi heloo\n",
      "\n",
      "prasu prasu\n",
      "\n",
      "good\n",
      "\n",
      "\n",
      "\n"
     ]
    }
   ],
   "source": [
    "with open(\"text.txt\") as f:\n",
    "    data=f.readlines()\n",
    "    for i in data:\n",
    "        print(i)"
   ]
  },
  {
   "cell_type": "markdown",
   "metadata": {},
   "source": [
    "### Line Count"
   ]
  },
  {
   "cell_type": "code",
   "execution_count": 3,
   "metadata": {},
   "outputs": [
    {
     "name": "stdout",
     "output_type": "stream",
     "text": [
      "4\n"
     ]
    }
   ],
   "source": [
    "with open(\"text.txt\") as f:\n",
    "    data=f.readlines()\n",
    "    c=0\n",
    "    for i in data:\n",
    "            c=c+1\n",
    "    print(c)"
   ]
  },
  {
   "cell_type": "markdown",
   "metadata": {},
   "source": [
    "### Char Count"
   ]
  },
  {
   "cell_type": "code",
   "execution_count": 127,
   "metadata": {},
   "outputs": [
    {
     "name": "stdout",
     "output_type": "stream",
     "text": [
      "45\n"
     ]
    }
   ],
   "source": [
    "with open(\"text.txt\") as f:\n",
    "    data=f.readlines()\n",
    "    c=0\n",
    "    for i in data:\n",
    "        for j in i:\n",
    "            c=c+1\n",
    "    print(c)"
   ]
  },
  {
   "cell_type": "code",
   "execution_count": 4,
   "metadata": {},
   "outputs": [
    {
     "name": "stdout",
     "output_type": "stream",
     "text": [
      "3\n",
      "2\n",
      "1\n",
      "0\n",
      "['hi hi heloo\\n', 'prasu prasu\\n', 'good\\n', '\\n']\n"
     ]
    }
   ],
   "source": [
    "with open(\"text.txt\") as f:\n",
    "    data=f.readlines()\n",
    "    s=[]\n",
    "    c=0\n",
    "    for i in data:\n",
    "        s.append(i)\n",
    "        for j in s:\n",
    "            k=\"\"\n",
    "            k=k+j\n",
    "        print(len(k.split()))\n",
    "    print(s)"
   ]
  },
  {
   "cell_type": "code",
   "execution_count": 5,
   "metadata": {},
   "outputs": [
    {
     "name": "stdout",
     "output_type": "stream",
     "text": [
      "no. of words: 6\n"
     ]
    }
   ],
   "source": [
    "c=0\n",
    "file_name=\"text.txt\"\n",
    "with open(file_name,\"r\") as f:\n",
    "    for i in f:\n",
    "        c+=len(i.split())\n",
    "print(\"no. of words:\",c)"
   ]
  },
  {
   "cell_type": "code",
   "execution_count": 6,
   "metadata": {},
   "outputs": [
    {
     "name": "stdout",
     "output_type": "stream",
     "text": [
      "['hi hi heloo\\n'] {'hi hi heloo\\n'}\n",
      "['prasu prasu\\n'] {'prasu prasu\\n'}\n",
      "['good\\n'] {'good\\n'}\n",
      "['\\n'] {'\\n'}\n"
     ]
    }
   ],
   "source": [
    "c=0\n",
    "file_name=\"text.txt\"\n",
    "with open(file_name,\"r\") as f:\n",
    "    for i in f:\n",
    "        s=[]\n",
    "        c=(i.split())\n",
    "        s.append(i)\n",
    "        k=set(s)\n",
    "        print(s,k)"
   ]
  },
  {
   "cell_type": "code",
   "execution_count": 1,
   "metadata": {},
   "outputs": [
    {
     "name": "stdout",
     "output_type": "stream",
     "text": [
      "hi hi heloo\n",
      " {'heloo', 'hi'} 2\n",
      "prasu prasu\n",
      " {'prasu'} 1\n",
      "good {'good'} 1\n"
     ]
    }
   ],
   "source": [
    "c=0\n",
    "file_name=\"text.txt\"\n",
    "with open(file_name,\"r\") as f:\n",
    "    for i in f:\n",
    "        s=\"\"\n",
    "        s=s+i\n",
    "        k=set(s.split())\n",
    "        print(s,k,len(k))"
   ]
  },
  {
   "cell_type": "markdown",
   "metadata": {},
   "source": [
    "### File Size"
   ]
  },
  {
   "cell_type": "code",
   "execution_count": 15,
   "metadata": {},
   "outputs": [
    {
     "data": {
      "text/plain": [
       "28"
      ]
     },
     "execution_count": 15,
     "metadata": {},
     "output_type": "execute_result"
    }
   ],
   "source": [
    "import os\n",
    "n=os.stat(\"text.txt\")\n",
    "n.st_size"
   ]
  },
  {
   "cell_type": "code",
   "execution_count": 16,
   "metadata": {},
   "outputs": [
    {
     "name": "stdout",
     "output_type": "stream",
     "text": [
      "28\n"
     ]
    }
   ],
   "source": [
    "with open(\"text.txt\") as f:\n",
    "    data=f.readlines()\n",
    "    print(f.tell())#where cursor last place"
   ]
  },
  {
   "cell_type": "code",
   "execution_count": 17,
   "metadata": {},
   "outputs": [
    {
     "name": "stdout",
     "output_type": "stream",
     "text": [
      "hi hi heloo\n",
      "prasu prasu\n",
      "good\n"
     ]
    }
   ],
   "source": [
    "with open(\"text.txt\") as f:\n",
    "    data=f.readlines()\n",
    "    f.seek(0)\n",
    "    print(f.read(100))"
   ]
  },
  {
   "cell_type": "code",
   "execution_count": 18,
   "metadata": {},
   "outputs": [
    {
     "name": "stdout",
     "output_type": "stream",
     "text": [
      "i hi heloo\n",
      "prasu prasu\n",
      "good\n"
     ]
    }
   ],
   "source": [
    "with open(\"text.txt\") as f:\n",
    "    data=f.readlines()\n",
    "    f.seek(1)#from position 1 it reads\n",
    "    print(f.read(100))"
   ]
  },
  {
   "cell_type": "code",
   "execution_count": 24,
   "metadata": {},
   "outputs": [
    {
     "name": "stdout",
     "output_type": "stream",
     "text": [
      "o\n",
      "prasu pr\n"
     ]
    }
   ],
   "source": [
    "with open(\"text.txt\") as f:\n",
    "    data=f.readlines()\n",
    "    f.seek(10)#from position 1 it reads\n",
    "    print(f.read(10))#reads upto 10 position"
   ]
  },
  {
   "cell_type": "code",
   "execution_count": 25,
   "metadata": {},
   "outputs": [],
   "source": [
    "file=\"contact_data.txt\"\n",
    "def newcontact(name,number):\n",
    "    fh=open(file,'a')\n",
    "    fh.write(name+\" \"+str(number)+\"\\n\")\n",
    "    fh.close()\n",
    "    return 'contact saved'"
   ]
  },
  {
   "cell_type": "code",
   "execution_count": 28,
   "metadata": {},
   "outputs": [
    {
     "data": {
      "text/plain": [
       "'contact saved'"
      ]
     },
     "execution_count": 28,
     "metadata": {},
     "output_type": "execute_result"
    }
   ],
   "source": [
    "newcontact(\"Prasu\",8309823188)"
   ]
  },
  {
   "cell_type": "code",
   "execution_count": 27,
   "metadata": {},
   "outputs": [
    {
     "data": {
      "text/plain": [
       "'contact saved'"
      ]
     },
     "execution_count": 27,
     "metadata": {},
     "output_type": "execute_result"
    }
   ],
   "source": [
    "newcontact(\"Dad\",9492736769)"
   ]
  },
  {
   "cell_type": "code",
   "execution_count": 36,
   "metadata": {},
   "outputs": [
    {
     "name": "stdout",
     "output_type": "stream",
     "text": [
      "8309823188\n"
     ]
    }
   ],
   "source": [
    "def readcontact(name):\n",
    "    fh=open(file)\n",
    "    line=fh.readlines()\n",
    "    for i in line:\n",
    "        word=i.split()\n",
    "        contact_name=word[0]\n",
    "        contact_num=word[1]\n",
    "        if name==contact_name:\n",
    "            print(contact_num)\n",
    "            break\n",
    "readcontact(\"Prasu\")"
   ]
  },
  {
   "cell_type": "code",
   "execution_count": 3,
   "metadata": {},
   "outputs": [],
   "source": [
    "def data(file):\n",
    "    fh=open(file)\n",
    "    line=fh.readlines()\n",
    "    for i in line:\n",
    "        word=i.split()\n",
    "        contact_name=word[0]\n",
    "        contact_num=word[1]\n",
    "        print(contact_name,contact_num)\n",
    "        "
   ]
  },
  {
   "cell_type": "code",
   "execution_count": 4,
   "metadata": {},
   "outputs": [
    {
     "name": "stdout",
     "output_type": "stream",
     "text": [
      "Prasu 8309823188\n",
      "Dad 9492736769\n"
     ]
    }
   ],
   "source": [
    "data(\"contact_data.txt\")"
   ]
  },
  {
   "cell_type": "code",
   "execution_count": 11,
   "metadata": {},
   "outputs": [],
   "source": [
    "from random import randint\n",
    "with open(\"marks.text\",'w') as mf:\n",
    "    for i in range(1000):\n",
    "        mf.write(str(randint(0,100))+\"\\n\")"
   ]
  },
  {
   "cell_type": "code",
   "execution_count": 7,
   "metadata": {},
   "outputs": [
    {
     "data": {
      "text/plain": [
       "9"
      ]
     },
     "execution_count": 7,
     "metadata": {},
     "output_type": "execute_result"
    }
   ],
   "source": [
    "randint(0,10)"
   ]
  },
  {
   "cell_type": "markdown",
   "metadata": {},
   "source": [
    "#### Write a function to calculate Highest marks from marks.txt file\n",
    "#### Calculate avg,pass percentage,fail percentage\n",
    "#### Distinction(above 75 averages)"
   ]
  },
  {
   "cell_type": "code",
   "execution_count": 43,
   "metadata": {},
   "outputs": [
    {
     "name": "stdout",
     "output_type": "stream",
     "text": [
      "49115\n",
      "49.115\n",
      "69.9\n",
      "30.1\n",
      "699\n",
      "301\n",
      "257\n",
      "100\n"
     ]
    }
   ],
   "source": [
    "from random import randint\n",
    "with open(\"marks.txt\",'w') as mf:\n",
    "    for i in range(1000):\n",
    "        mf.write(str(randint(0,100))+\"\\n\")\n",
    "mf=open(\"marks.txt\")\n",
    "line=mf.readlines()\n",
    "s=0\n",
    "p=0\n",
    "f=0\n",
    "d=0\n",
    "for i in line:\n",
    "    s=s+int(i)\n",
    "print(s)\n",
    "avg=s/1000\n",
    "print(avg)\n",
    "for i in line:\n",
    "    if int(i)>=30:\n",
    "        p=p+1\n",
    "    if int(i)<30:\n",
    "        f=f+1\n",
    "p_per=p*100/1000\n",
    "f_per=f*100/1000\n",
    "print(p_per)\n",
    "print(f_per)\n",
    "print(p)\n",
    "print(f)\n",
    "for i in line:\n",
    "    if int(i)>=75:\n",
    "        d=d+1\n",
    "print(d)\n",
    "t=0\n",
    "for i in line:\n",
    "    if int(i)>t:\n",
    "        t=int(i)\n",
    "print(t)"
   ]
  },
  {
   "cell_type": "code",
   "execution_count": 73,
   "metadata": {},
   "outputs": [],
   "source": [
    "def classreport1(file_name):\n",
    "    mf=open(file_name)\n",
    "    line=mf.readlines()\n",
    "    s=0\n",
    "    p=0\n",
    "    f=0\n",
    "    d=0\n",
    "    for i in line:\n",
    "        s=s+int(i)\n",
    "    print(\"sum:\",s)\n",
    "    avg=s/1000\n",
    "    print(\"Average\",avg)\n",
    "    for i in line:\n",
    "        if int(i)>=30:\n",
    "            p=p+1\n",
    "        if int(i)<30:\n",
    "            f=f+1\n",
    "    p_per=p*100/1000\n",
    "    f_per=f*100/1000\n",
    "    print(\"Pass Percentage:\",p_per)\n",
    "    print(\"Fail percentage:\",f_per)\n",
    "    print(\"Pass members:\",p)\n",
    "    print(\"Fail members\",f)\n",
    "    for i in line:\n",
    "        if int(i)>=75:\n",
    "            d=d+1\n",
    "    print(\"Distinction members:\",d)\n",
    "    t=0\n",
    "    for i in line:\n",
    "        if int(i)>t:\n",
    "            t=int(i)\n",
    "    print(\"Highest marks:\",t)"
   ]
  },
  {
   "cell_type": "code",
   "execution_count": 74,
   "metadata": {},
   "outputs": [],
   "source": [
    "from random import randint\n",
    "mf=open(file_name,'w')\n",
    "for i in range(1000):\n",
    "    mf.write(str(randint(0,100))+\"\\n\")"
   ]
  },
  {
   "cell_type": "code",
   "execution_count": 75,
   "metadata": {},
   "outputs": [
    {
     "name": "stdout",
     "output_type": "stream",
     "text": [
      "sum: 52061\n",
      "Average 52.061\n",
      "Pass Percentage: 73.6\n",
      "Fail percentage: 26.4\n",
      "Pass members: 736\n",
      "Fail members 264\n",
      "Distinction members: 290\n",
      "Highest marks: 100\n"
     ]
    }
   ],
   "source": [
    "classreport1(\"marks.txt\")"
   ]
  },
  {
   "cell_type": "code",
   "execution_count": 80,
   "metadata": {},
   "outputs": [],
   "source": [
    "def classreport2(file_name):\n",
    "    with open(file_name,'r') as mf:\n",
    "        data=mf.read().split()\n",
    "        marks_list=list(map(int,data))\n",
    "        avg=sum(marks_list)/len(marks_list)\n",
    "        print(\"Average:\",avg)\n",
    "        fc=0\n",
    "        pc=0\n",
    "        d=0\n",
    "        for ele in marks_list:\n",
    "            if ele<30:\n",
    "                fc+=1\n",
    "            if ele>=30:\n",
    "                pc+=1\n",
    "            if ele>=75:\n",
    "                d+=1\n",
    "        print(\"Pass %:\",(pc*100/1000))\n",
    "        print(fc,pc,d)"
   ]
  },
  {
   "cell_type": "code",
   "execution_count": 81,
   "metadata": {},
   "outputs": [
    {
     "name": "stdout",
     "output_type": "stream",
     "text": [
      "Average: 52.061\n",
      "Pass %: 73.6\n",
      "264 736 290\n"
     ]
    }
   ],
   "source": [
    "classreport2(\"marks.txt\")"
   ]
  },
  {
   "cell_type": "code",
   "execution_count": null,
   "metadata": {},
   "outputs": [],
   "source": [
    "import re"
   ]
  }
 ],
 "metadata": {
  "kernelspec": {
   "display_name": "Python 3",
   "language": "python",
   "name": "python3"
  },
  "language_info": {
   "codemirror_mode": {
    "name": "ipython",
    "version": 3
   },
   "file_extension": ".py",
   "mimetype": "text/x-python",
   "name": "python",
   "nbconvert_exporter": "python",
   "pygments_lexer": "ipython3",
   "version": "3.7.3"
  }
 },
 "nbformat": 4,
 "nbformat_minor": 2
}

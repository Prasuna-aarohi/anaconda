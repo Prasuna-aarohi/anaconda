{
 "cells": [
  {
   "cell_type": "markdown",
   "metadata": {},
   "source": [
    "#### Data Encryption and Description"
   ]
  },
  {
   "cell_type": "code",
   "execution_count": 4,
   "metadata": {},
   "outputs": [
    {
     "data": {
      "text/plain": [
       "'cdef'"
      ]
     },
     "execution_count": 4,
     "metadata": {},
     "output_type": "execute_result"
    }
   ],
   "source": [
    "data='abcd'\n",
    "encrypteddata=''\n",
    "\n",
    "for char in data:\n",
    "    encrypteddata+=chr(ord(char)+2)\n",
    "encrypteddata"
   ]
  },
  {
   "cell_type": "code",
   "execution_count": 5,
   "metadata": {},
   "outputs": [
    {
     "data": {
      "text/plain": [
       "'abcd'"
      ]
     },
     "execution_count": 5,
     "metadata": {},
     "output_type": "execute_result"
    }
   ],
   "source": [
    "inputdata=encrypteddata\n",
    "originaldata=''\n",
    "for char in inputdata:\n",
    "    originaldata+=chr(ord(char)-2)\n",
    "originaldata"
   ]
  },
  {
   "cell_type": "code",
   "execution_count": 6,
   "metadata": {},
   "outputs": [],
   "source": [
    "#function to generate key to encrypt data\n",
    "def generatekey(keypath):\n",
    "    with open(keypath,'w') as f:\n",
    "        for i in range(10):\n",
    "            if i<6:\n",
    "                f.write(str(i)+\" \"+str(i+4)+'\\n')\n",
    "            else:\n",
    "                f.write(str(i)+\" \"+str(i-6)+'\\n')\n",
    "    return\n",
    "keypath='Datafiles/key.txt'\n",
    "generatekey(keypath)"
   ]
  },
  {
   "cell_type": "code",
   "execution_count": 7,
   "metadata": {},
   "outputs": [],
   "source": [
    "def dictkeyfile(keyfile):\n",
    "    key={}\n",
    "    with open(keyfile,'r')as f:\n",
    "        for line in f:\n",
    "            line=line.split()\n",
    "            key[line[0]]=line[1]\n",
    "    return key"
   ]
  },
  {
   "cell_type": "code",
   "execution_count": 8,
   "metadata": {},
   "outputs": [
    {
     "data": {
      "text/plain": [
       "{'0': '4',\n",
       " '1': '5',\n",
       " '2': '6',\n",
       " '3': '7',\n",
       " '4': '8',\n",
       " '5': '9',\n",
       " '6': '0',\n",
       " '7': '1',\n",
       " '8': '2',\n",
       " '9': '3'}"
      ]
     },
     "execution_count": 8,
     "metadata": {},
     "output_type": "execute_result"
    }
   ],
   "source": [
    "#function to read data file\n",
    "def encryptmarks(datafile,keyfile):\n",
    "    key=dictkeyfile(keyfile)\n",
    "    with open(datafile,'r') as f:\n",
    "        filedata=f.read().split()\n",
    "    with open('Datafiles/encryptedmarks.txt','w') as f:\n",
    "        for mark in filedata:\n",
    "            line=''\n",
    "            for digit in mark:\n",
    "                line+=key[digit]\n",
    "            f.write(line+'\\n')\n",
    "        return\n",
    "datafile='Datafiles/marks.txt'\n",
    "keyfile='Datafiles/key.txt'\n",
    "encryptmarks(datafile,keyfile)\n",
    "dictkeyfile(keyfile)"
   ]
  },
  {
   "cell_type": "code",
   "execution_count": 10,
   "metadata": {},
   "outputs": [],
   "source": [
    "def decryptmarksData(encryptedfile,keyfile):\n",
    "    key = dictkeyfile(keyfile)\n",
    "    newkey = {}\n",
    "    for k,v in key.items():\n",
    "        newkey[v] = k\n",
    "    \n",
    "    with open(encryptedfile,'r') as f:\n",
    "        encrypteddata = f.read().split('\\n')\n",
    "       \n",
    "    with open('DataFiles/originaldata.txt','w') as f:\n",
    "        \n",
    "        for en in encrypteddata:\n",
    "            line = \"\"\n",
    "            for digit in en:\n",
    "                line += newkey[digit]\n",
    "            f.write(line + '\\n')\n",
    "    \n",
    "encryptedfile = 'DataFiles/encryptedmarks.txt'\n",
    "keyfile = 'DataFiles/key.txt'\n",
    "decryptmarksData(encryptedfile,keyfile)"
   ]
  },
  {
   "cell_type": "code",
   "execution_count": null,
   "metadata": {},
   "outputs": [],
   "source": []
  }
 ],
 "metadata": {
  "kernelspec": {
   "display_name": "Python 3",
   "language": "python",
   "name": "python3"
  }
 },
 "nbformat": 4,
 "nbformat_minor": 2
}
